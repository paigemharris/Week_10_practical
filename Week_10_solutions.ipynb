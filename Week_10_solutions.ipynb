{
 "cells": [
  {
   "cell_type": "markdown",
   "id": "7de61552",
   "metadata": {},
   "source": [
    "* Here you'll generate your own data to make sure you understand what PCA is doing\n",
    "\n",
    "* Generate 4 variables W, X, Y, and Z\n",
    "\n",
    "1. X and Y should not be correlated\n",
    "  * They are independent\n",
    "\n",
    "2. W and X should have a mild correlation ( < 0.5)\n",
    "\n",
    "3. Y and Z should have a mild correlation ( > 0.9)\n",
    "\n",
    "* Here, it's important to note that:\n",
    "  1. The correction of two variables A and B is not determined by the linear regression\n",
    "    * $B = 0.4 \\times X$ does not mean that the correlation cor(A,B) = 0.4\n",
    "  2. Correction is factor of the noise in the linear regressio. \n",
    "     * For example, for  $B = 0.4 \\times X + \\epsilon$, the larger the noise component, the samller will be the correction between A and B\n",
    "   \n",
    "\n",
    "4. Generate a variable outcome as a linear combination of W, X, Y, and Z\n",
    "  * i.e., choose values for the coefficients $\\beta_0$, $\\beta_1$, etc.. and compute `outcome` \n",
    " \n",
    " \n",
    " $$outcome = \\beta_0 + \\beta_1 \\times W + \\beta_2 \\times X + \\beta_3 \\times Y + \\beta_4 \\times Z$$"
   ]
  },
  {
   "cell_type": "code",
   "execution_count": 2,
   "id": "1b73f399",
   "metadata": {},
   "outputs": [
    {
     "name": "stdout",
     "output_type": "stream",
     "text": [
      "package 'factoextra' successfully unpacked and MD5 sums checked\n",
      "\n",
      "The downloaded binary packages are in\n",
      "\tC:\\Users\\paige\\AppData\\Local\\Temp\\RtmpgbB8Nw\\downloaded_packages\n"
     ]
    },
    {
     "name": "stderr",
     "output_type": "stream",
     "text": [
      "also installing the dependency 'infer'\n",
      "\n"
     ]
    },
    {
     "name": "stdout",
     "output_type": "stream",
     "text": [
      "\n",
      "  There are binary versions available but the source versions are later:\n",
      "           binary source needs_compilation\n",
      "infer       0.5.4  1.0.0             FALSE\n",
      "moderndive  0.5.1  0.5.2             FALSE\n",
      "\n"
     ]
    },
    {
     "name": "stderr",
     "output_type": "stream",
     "text": [
      "installing the source packages 'infer', 'moderndive'\n",
      "\n",
      "Warning message in install.packages(\"moderndive\"):\n",
      "\"installation of package 'infer' had non-zero exit status\"Warning message in install.packages(\"moderndive\"):\n",
      "\"installation of package 'moderndive' had non-zero exit status\"also installing the dependencies 'rlang', 'vroom'\n",
      "\n"
     ]
    },
    {
     "name": "stdout",
     "output_type": "stream",
     "text": [
      "\n",
      "  There are binary versions available but the source versions are later:\n",
      "      binary source needs_compilation\n",
      "rlang 0.4.11 0.4.12              TRUE\n",
      "vroom  1.4.0  1.5.5              TRUE\n",
      "readr  1.4.0  2.0.2              TRUE\n",
      "\n",
      "  Binaries will be installed\n",
      "package 'rlang' successfully unpacked and MD5 sums checked\n",
      "package 'vroom' successfully unpacked and MD5 sums checked\n",
      "package 'readr' successfully unpacked and MD5 sums checked\n",
      "\n",
      "The downloaded binary packages are in\n",
      "\tC:\\Users\\paige\\AppData\\Local\\Temp\\RtmpgbB8Nw\\downloaded_packages\n"
     ]
    },
    {
     "name": "stderr",
     "output_type": "stream",
     "text": [
      "Registered S3 methods overwritten by 'ggplot2':\n",
      "  method         from \n",
      "  [.quosures     rlang\n",
      "  c.quosures     rlang\n",
      "  print.quosures rlang\n",
      "Registered S3 method overwritten by 'rvest':\n",
      "  method            from\n",
      "  read_xml.response xml2\n",
      "-- Attaching packages --------------------------------------- tidyverse 1.2.1 --\n",
      "v ggplot2 3.1.1       v purrr   0.3.2  \n",
      "v tibble  2.1.1       v dplyr   0.8.0.1\n",
      "v tidyr   0.8.3       v stringr 1.4.0  \n",
      "v readr   1.4.0       v forcats 0.4.0  \n",
      "Warning message:\n",
      "\"package 'readr' was built under R version 3.6.3\"-- Conflicts ------------------------------------------ tidyverse_conflicts() --\n",
      "x dplyr::filter() masks stats::filter()\n",
      "x dplyr::lag()    masks stats::lag()\n",
      "Warning message:\n",
      "\"package 'factoextra' was built under R version 3.6.3\"Welcome! Want to learn more? See two factoextra-related books at https://goo.gl/ve3WBa\n"
     ]
    },
    {
     "ename": "ERROR",
     "evalue": "Error in library(moderndive): there is no package called 'moderndive'\n",
     "output_type": "error",
     "traceback": [
      "Error in library(moderndive): there is no package called 'moderndive'\nTraceback:\n",
      "1. library(moderndive)"
     ]
    }
   ],
   "source": [
    "install.packages(\"factoextra\")\n",
    "install.packages(\"moderndive\")\n",
    "install.packages(\"readr\")\n",
    "library(tidyverse)\n",
    "library(geometry)\n",
    "library(factoextra)\n",
    "library(moderndive)\n",
    "library(readr)\n",
    "library(ggplot2)"
   ]
  },
  {
   "cell_type": "code",
   "execution_count": 20,
   "id": "953df39a",
   "metadata": {},
   "outputs": [
    {
     "data": {
      "text/html": [
       "0.320622432681616"
      ],
      "text/latex": [
       "0.320622432681616"
      ],
      "text/markdown": [
       "0.320622432681616"
      ],
      "text/plain": [
       "[1] 0.3206224"
      ]
     },
     "metadata": {},
     "output_type": "display_data"
    },
    {
     "data": {
      "text/html": [
       "0.923037545713198"
      ],
      "text/latex": [
       "0.923037545713198"
      ],
      "text/markdown": [
       "0.923037545713198"
      ],
      "text/plain": [
       "[1] 0.9230375"
      ]
     },
     "metadata": {},
     "output_type": "display_data"
    }
   ],
   "source": [
    "x = rnorm(30, 2, 1)\n",
    "error = rnorm(30, 0, 6)\n",
    "w = 2*x + error\n",
    "y = rnorm(30, 3, 3)\n",
    "z = 3*y + error\n",
    "cor(w, x)\n",
    "cor(y, z)"
   ]
  },
  {
   "cell_type": "code",
   "execution_count": 21,
   "id": "9e55cbfe",
   "metadata": {},
   "outputs": [
    {
     "data": {
      "text/html": [
       "<ol class=list-inline>\n",
       "\t<li>16.2952777476832</li>\n",
       "\t<li>57.5279899500922</li>\n",
       "\t<li>56.6016922352652</li>\n",
       "\t<li>1.76229018552747</li>\n",
       "\t<li>-10.4787578826339</li>\n",
       "\t<li>22.4982538128553</li>\n",
       "\t<li>26.4754316968007</li>\n",
       "\t<li>5.55701379895139</li>\n",
       "\t<li>8.71165995614427</li>\n",
       "\t<li>14.9778168705292</li>\n",
       "\t<li>-36.1111650951008</li>\n",
       "\t<li>59.4106623717479</li>\n",
       "\t<li>41.709762565547</li>\n",
       "\t<li>11.0895720164878</li>\n",
       "\t<li>44.794092668355</li>\n",
       "\t<li>9.04928050260324</li>\n",
       "\t<li>27.2030645685954</li>\n",
       "\t<li>16.575728528795</li>\n",
       "\t<li>36.5299551977057</li>\n",
       "\t<li>-24.6888695160816</li>\n",
       "\t<li>12.460801476255</li>\n",
       "\t<li>54.808478649442</li>\n",
       "\t<li>7.53749246077771</li>\n",
       "\t<li>13.8875786137651</li>\n",
       "\t<li>32.8628695676109</li>\n",
       "\t<li>24.040515301285</li>\n",
       "\t<li>40.9612060453287</li>\n",
       "\t<li>48.5307459062606</li>\n",
       "\t<li>67.6179106588644</li>\n",
       "\t<li>21.2528220480453</li>\n",
       "</ol>\n"
      ],
      "text/latex": [
       "\\begin{enumerate*}\n",
       "\\item 16.2952777476832\n",
       "\\item 57.5279899500922\n",
       "\\item 56.6016922352652\n",
       "\\item 1.76229018552747\n",
       "\\item -10.4787578826339\n",
       "\\item 22.4982538128553\n",
       "\\item 26.4754316968007\n",
       "\\item 5.55701379895139\n",
       "\\item 8.71165995614427\n",
       "\\item 14.9778168705292\n",
       "\\item -36.1111650951008\n",
       "\\item 59.4106623717479\n",
       "\\item 41.709762565547\n",
       "\\item 11.0895720164878\n",
       "\\item 44.794092668355\n",
       "\\item 9.04928050260324\n",
       "\\item 27.2030645685954\n",
       "\\item 16.575728528795\n",
       "\\item 36.5299551977057\n",
       "\\item -24.6888695160816\n",
       "\\item 12.460801476255\n",
       "\\item 54.808478649442\n",
       "\\item 7.53749246077771\n",
       "\\item 13.8875786137651\n",
       "\\item 32.8628695676109\n",
       "\\item 24.040515301285\n",
       "\\item 40.9612060453287\n",
       "\\item 48.5307459062606\n",
       "\\item 67.6179106588644\n",
       "\\item 21.2528220480453\n",
       "\\end{enumerate*}\n"
      ],
      "text/markdown": [
       "1. 16.2952777476832\n",
       "2. 57.5279899500922\n",
       "3. 56.6016922352652\n",
       "4. 1.76229018552747\n",
       "5. -10.4787578826339\n",
       "6. 22.4982538128553\n",
       "7. 26.4754316968007\n",
       "8. 5.55701379895139\n",
       "9. 8.71165995614427\n",
       "10. 14.9778168705292\n",
       "11. -36.1111650951008\n",
       "12. 59.4106623717479\n",
       "13. 41.709762565547\n",
       "14. 11.0895720164878\n",
       "15. 44.794092668355\n",
       "16. 9.04928050260324\n",
       "17. 27.2030645685954\n",
       "18. 16.575728528795\n",
       "19. 36.5299551977057\n",
       "20. -24.6888695160816\n",
       "21. 12.460801476255\n",
       "22. 54.808478649442\n",
       "23. 7.53749246077771\n",
       "24. 13.8875786137651\n",
       "25. 32.8628695676109\n",
       "26. 24.040515301285\n",
       "27. 40.9612060453287\n",
       "28. 48.5307459062606\n",
       "29. 67.6179106588644\n",
       "30. 21.2528220480453\n",
       "\n",
       "\n"
      ],
      "text/plain": [
       " [1]  16.295278  57.527990  56.601692   1.762290 -10.478758  22.498254\n",
       " [7]  26.475432   5.557014   8.711660  14.977817 -36.111165  59.410662\n",
       "[13]  41.709763  11.089572  44.794093   9.049281  27.203065  16.575729\n",
       "[19]  36.529955 -24.688870  12.460801  54.808479   7.537492  13.887579\n",
       "[25]  32.862870  24.040515  40.961206  48.530746  67.617911  21.252822"
      ]
     },
     "metadata": {},
     "output_type": "display_data"
    }
   ],
   "source": [
    "outcome = 1 + 1.5*w  + 2.1*x + 1.8*y + 0.9*z + error\n",
    "outcome"
   ]
  },
  {
   "cell_type": "markdown",
   "id": "6c97b474",
   "metadata": {},
   "source": [
    "5. Model your outcome using W, X, Y, and Z.\n",
    "  * Do your results match your model params?"
   ]
  },
  {
   "cell_type": "code",
   "execution_count": 39,
   "id": "8b16c937",
   "metadata": {},
   "outputs": [
    {
     "name": "stderr",
     "output_type": "stream",
     "text": [
      "Warning message in summary.lm(model):\n",
      "\"essentially perfect fit: summary may be unreliable\""
     ]
    },
    {
     "data": {
      "text/plain": [
       "\n",
       "Call:\n",
       "lm(formula = outcome ~ w + x + y + z + error)\n",
       "\n",
       "Residuals:\n",
       "       Min         1Q     Median         3Q        Max \n",
       "-2.519e-14 -2.455e-15  3.022e-16  3.356e-15  8.640e-15 \n",
       "\n",
       "Coefficients: (2 not defined because of singularities)\n",
       "              Estimate Std. Error    t value Pr(>|t|)    \n",
       "(Intercept)  1.000e+00  3.036e-15  3.294e+14   <2e-16 ***\n",
       "w            3.400e+00  2.603e-16  1.306e+16   <2e-16 ***\n",
       "x           -1.700e+00  1.222e-15 -1.391e+15   <2e-16 ***\n",
       "y            4.500e+00  3.599e-16  1.250e+16   <2e-16 ***\n",
       "z                   NA         NA         NA       NA    \n",
       "error               NA         NA         NA       NA    \n",
       "---\n",
       "Signif. codes:  0 '***' 0.001 '**' 0.01 '*' 0.05 '.' 0.1 ' ' 1\n",
       "\n",
       "Residual standard error: 6.615e-15 on 26 degrees of freedom\n",
       "Multiple R-squared:      1,\tAdjusted R-squared:      1 \n",
       "F-statistic: 1.335e+32 on 3 and 26 DF,  p-value: < 2.2e-16\n"
      ]
     },
     "metadata": {},
     "output_type": "display_data"
    },
    {
     "data": {
      "text/html": [
       "<dl class=dl-horizontal>\n",
       "\t<dt>(Intercept)</dt>\n",
       "\t\t<dd>1.00000000000001</dd>\n",
       "\t<dt>w</dt>\n",
       "\t\t<dd>3.4</dd>\n",
       "\t<dt>x</dt>\n",
       "\t\t<dd>-1.7</dd>\n",
       "\t<dt>y</dt>\n",
       "\t\t<dd>4.5</dd>\n",
       "\t<dt>z</dt>\n",
       "\t\t<dd>&lt;NA&gt;</dd>\n",
       "\t<dt>error</dt>\n",
       "\t\t<dd>&lt;NA&gt;</dd>\n",
       "</dl>\n"
      ],
      "text/latex": [
       "\\begin{description*}\n",
       "\\item[(Intercept)] 1.00000000000001\n",
       "\\item[w] 3.4\n",
       "\\item[x] -1.7\n",
       "\\item[y] 4.5\n",
       "\\item[z] <NA>\n",
       "\\item[error] <NA>\n",
       "\\end{description*}\n"
      ],
      "text/markdown": [
       "(Intercept)\n",
       ":   1.00000000000001w\n",
       ":   3.4x\n",
       ":   -1.7y\n",
       ":   4.5z\n",
       ":   &lt;NA&gt;error\n",
       ":   &lt;NA&gt;\n",
       "\n"
      ],
      "text/plain": [
       "(Intercept)           w           x           y           z       error \n",
       "        1.0         3.4        -1.7         4.5          NA          NA "
      ]
     },
     "metadata": {},
     "output_type": "display_data"
    }
   ],
   "source": [
    "model = lm(outcome~w + x + y + z + error)\n",
    "summary(model)\n",
    "model$coefficients\n",
    "#The intercept is the same, but the other parameters are not.\n",
    "#Why is it a perfect fit even though I added noise?"
   ]
  },
  {
   "cell_type": "markdown",
   "id": "ab6754a8",
   "metadata": {},
   "source": [
    "6. Use PCA to reduce the dimensionality of your dataset\n",
    "  * Can you explain why you don't need to include the outcome?     "
   ]
  },
  {
   "cell_type": "code",
   "execution_count": 38,
   "id": "59f55e83",
   "metadata": {},
   "outputs": [
    {
     "data": {
      "text/plain": [
       "Importance of components:\n",
       "                       PC1\n",
       "Standard deviation       1\n",
       "Proportion of Variance   1\n",
       "Cumulative Proportion    1"
      ]
     },
     "metadata": {},
     "output_type": "display_data"
    }
   ],
   "source": [
    "pca = prcomp(outcome, scale=TRUE)\n",
    "summary(pca)"
   ]
  },
  {
   "cell_type": "code",
   "execution_count": 31,
   "id": "f9d0ffe9",
   "metadata": {},
   "outputs": [
    {
     "name": "stdout",
     "output_type": "stream",
     "text": [
      "List of 5\n",
      " $ sdev    : num 1\n",
      " $ rotation: num [1, 1] 1\n",
      "  ..- attr(*, \"dimnames\")=List of 2\n",
      "  .. ..$ : NULL\n",
      "  .. ..$ : chr \"PC1\"\n",
      " $ center  : num 23.6\n",
      " $ scale   : num 24.6\n",
      " $ x       : num [1:30, 1] -0.299 1.378 1.341 -0.89 -1.388 ...\n",
      "  ..- attr(*, \"dimnames\")=List of 2\n",
      "  .. ..$ : NULL\n",
      "  .. ..$ : chr \"PC1\"\n",
      " - attr(*, \"class\")= chr \"prcomp\"\n"
     ]
    }
   ],
   "source": [
    "str(pca)"
   ]
  },
  {
   "cell_type": "code",
   "execution_count": 34,
   "id": "637e7c1c",
   "metadata": {},
   "outputs": [
    {
     "data": {
      "text/html": [
       "<table>\n",
       "<thead><tr><th scope=col>PC1</th></tr></thead>\n",
       "<tbody>\n",
       "\t<tr><td>1</td></tr>\n",
       "</tbody>\n",
       "</table>\n"
      ],
      "text/latex": [
       "\\begin{tabular}{l}\n",
       " PC1\\\\\n",
       "\\hline\n",
       "\t 1\\\\\n",
       "\\end{tabular}\n"
      ],
      "text/markdown": [
       "\n",
       "| PC1 |\n",
       "|---|\n",
       "| 1 |\n",
       "\n"
      ],
      "text/plain": [
       "     PC1\n",
       "[1,] 1  "
      ]
     },
     "metadata": {},
     "output_type": "display_data"
    }
   ],
   "source": [
    "pca$rotation"
   ]
  },
  {
   "cell_type": "code",
   "execution_count": 40,
   "id": "6e7d53fb",
   "metadata": {},
   "outputs": [
    {
     "data": {
      "text/html": [
       "1"
      ],
      "text/latex": [
       "1"
      ],
      "text/markdown": [
       "1"
      ],
      "text/plain": [
       "[1] 1"
      ]
     },
     "metadata": {},
     "output_type": "display_data"
    }
   ],
   "source": [
    "pca$sdev^2"
   ]
  },
  {
   "cell_type": "code",
   "execution_count": 41,
   "id": "fffd7a11",
   "metadata": {},
   "outputs": [
    {
     "data": {
      "text/html": [
       "1"
      ],
      "text/latex": [
       "1"
      ],
      "text/markdown": [
       "1"
      ],
      "text/plain": [
       "[1] 1"
      ]
     },
     "metadata": {},
     "output_type": "display_data"
    }
   ],
   "source": [
    "pca$sdev^2 / sum(pca$sdev^2)"
   ]
  },
  {
   "cell_type": "markdown",
   "id": "8b851bc6",
   "metadata": {},
   "source": [
    "7. Use the bi-plot to visualize the contributions of your initial variables"
   ]
  },
  {
   "cell_type": "code",
   "execution_count": 42,
   "id": "650c955f",
   "metadata": {},
   "outputs": [
    {
     "ename": "ERROR",
     "evalue": "Error in facto_summarize(X, element = \"var\", result = c(\"coord\", \"contrib\", : The value of the argument axes is incorrect. The number of axes in the data is: 1. Please try again with axes between 1 - 1\n",
     "output_type": "error",
     "traceback": [
      "Error in facto_summarize(X, element = \"var\", result = c(\"coord\", \"contrib\", : The value of the argument axes is incorrect. The number of axes in the data is: 1. Please try again with axes between 1 - 1\nTraceback:\n",
      "1. fviz_pca_biplot(pca)",
      "2. facto_summarize(X, element = \"var\", result = c(\"coord\", \"contrib\", \n .     \"cos2\"), axes = axes)",
      "3. stop(\"The value of the argument axes is incorrect. \", \"The number of axes in the data is: \", \n .     ncol(elmt$coord), \". Please try again with axes between 1 - \", \n .     ncol(elmt$coord))"
     ]
    }
   ],
   "source": [
    "fviz_pca_biplot(pca)"
   ]
  },
  {
   "cell_type": "markdown",
   "id": "aac6da7c",
   "metadata": {},
   "source": [
    "8. How efficient is the new lower-dimensional space representation at predicting the outcome?\n",
    "  * Do your results match your model params?"
   ]
  },
  {
   "cell_type": "code",
   "execution_count": null,
   "id": "b68cc27b",
   "metadata": {},
   "outputs": [],
   "source": [
    "#I don't understand why it's a perfect fit."
   ]
  }
 ],
 "metadata": {
  "kernelspec": {
   "display_name": "R",
   "language": "R",
   "name": "ir"
  },
  "language_info": {
   "codemirror_mode": "r",
   "file_extension": ".r",
   "mimetype": "text/x-r-source",
   "name": "R",
   "pygments_lexer": "r",
   "version": "3.6.1"
  }
 },
 "nbformat": 4,
 "nbformat_minor": 5
}
